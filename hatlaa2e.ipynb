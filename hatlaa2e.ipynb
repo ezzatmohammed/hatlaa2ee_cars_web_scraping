{
 "cells": [
  {
   "cell_type": "code",
   "execution_count": 80,
   "metadata": {},
   "outputs": [],
   "source": [
    "import csv\n",
    "import requests\n",
    "from bs4 import BeautifulSoup\n",
    "url = \"https://eg.hatla2ee.com/ar/car/mitsubishi\"\n",
    "response=requests.get(url)\n",
    "soup = BeautifulSoup(response.text, 'html.parser')"
   ]
  },
  {
   "cell_type": "code",
   "execution_count": 126,
   "metadata": {},
   "outputs": [
    {
     "data": {
      "text/plain": [
       "'/'"
      ]
     },
     "execution_count": 126,
     "metadata": {},
     "output_type": "execute_result"
    }
   ],
   "source": [
    "name=soup.find_all(\"div\",attrs={\"class\":\"newCarListUnit_header\"})\n",
    "carurl=soup.find(\"a\").get(\"href\")\n",
    "carurl"
   ]
  },
  {
   "cell_type": "code",
   "execution_count": 23,
   "metadata": {},
   "outputs": [
    {
     "data": {
      "text/plain": [
       "['/ar/car/mitsubishi/Lancer-EX-Shark/5114774',\n",
       " '/ar/car/mitsubishi/Lancer-Puma/5112912',\n",
       " '/ar/car/mitsubishi/Lancer-EX-Shark/5108468',\n",
       " '/ar/car/mitsubishi/Lancer-EX-Shark/5103573',\n",
       " '/ar/car/mitsubishi/galant/5079249',\n",
       " '/ar/car/mitsubishi/Lancer-EX-Shark/5097465',\n",
       " '/ar/car/mitsubishi/Lancer-Puma/5120510',\n",
       " '/ar/car/mitsubishi/Lancer-Puma/5120261',\n",
       " '/ar/car/mitsubishi/pajero/5120202',\n",
       " '/ar/car/mitsubishi/Eclipse-Cross/5120189',\n",
       " '/ar/car/mitsubishi/Lancer-Puma/5120106',\n",
       " '/ar/car/mitsubishi/Lancer-EX-Shark/5118873',\n",
       " '/ar/car/mitsubishi/Lancer-Puma/5120000',\n",
       " '/ar/car/mitsubishi/Lancer-EX-Shark/5119791',\n",
       " '/ar/car/mitsubishi/pajero/5119916',\n",
       " '/ar/car/mitsubishi/lancer/5119731',\n",
       " '/ar/car/mitsubishi/Lancer-EX-Shark/5118572',\n",
       " '/ar/car/mitsubishi/lancer/5105058',\n",
       " '/ar/car/mitsubishi/Lancer-Puma/5119484',\n",
       " '/ar/car/mitsubishi/Lancer-EX-Shark/5119455',\n",
       " '/ar/car/mitsubishi/Lancer-Puma/5119449',\n",
       " '/ar/car/mitsubishi/Lancer-Crystala/5119397',\n",
       " '/ar/car/mitsubishi/Lancer-Puma/5119245',\n",
       " '/ar/car/mitsubishi/Lancer-Puma/5119055',\n",
       " '/ar/car/mitsubishi/Lancer-Puma/5119043',\n",
       " '/ar/car/mitsubishi/Lancer-Puma/5118732',\n",
       " '/ar/car/mitsubishi/Lancer-Puma/5118711',\n",
       " '/ar/car/mitsubishi/Lancer-EX-Shark/5118540',\n",
       " '/ar/car/mitsubishi/lancer/5118342',\n",
       " '/ar/car/mitsubishi/attrage/5118311']"
      ]
     },
     "execution_count": 23,
     "metadata": {},
     "output_type": "execute_result"
    }
   ],
   "source": [
    "urls"
   ]
  },
  {
   "cell_type": "code",
   "execution_count": 24,
   "metadata": {},
   "outputs": [],
   "source": [
    "names=[]\n",
    "name=soup.find_all(\"div\",attrs={\"class\":\"newCarListUnit_header\"})\n",
    "\n",
    "for i in name:\n",
    "    car=i.find(\"a\").get(\"title\")\n",
    "    names.append(car)"
   ]
  },
  {
   "cell_type": "code",
   "execution_count": 25,
   "metadata": {},
   "outputs": [
    {
     "data": {
      "text/plain": [
       "['ميتسوبيشي لانسر اى اكس شارك 2016 الهرم أسود',\n",
       " 'ميتسوبيشي لانسر بومة 2014 التجمع - القاهرة الجديدة أبيض',\n",
       " 'ميتسوبيشي لانسر اى اكس شارك 2016 المنصورة فيراني',\n",
       " 'ميتسوبيشي لانسر اى اكس شارك 2008 المحلة فضي',\n",
       " 'ميتسوبيشي جالانت 1999 مدينة نصر فضي',\n",
       " 'ميتسوبيشي لانسر اى اكس شارك 2018 القاهرة رمادي',\n",
       " 'ميتسوبيشي لانسر بومة 2011 6 أكتوبر احمر',\n",
       " 'ميتسوبيشي لانسر بومة 2002 المحلة احمر غامق',\n",
       " 'ميتسوبيشي باجيرو 2019 الجيزة موكا',\n",
       " 'ميتسوبيشي اكليبس كروس 2019 بني سويف\\u200e أبيض',\n",
       " 'ميتسوبيشي لانسر بومة 2007 القاهرة أزرق',\n",
       " 'ميتسوبيشي لانسر اى اكس شارك 2015 مصر الجديدة أسود',\n",
       " 'ميتسوبيشي لانسر بومة 2005 المنوفية فضي',\n",
       " 'ميتسوبيشي لانسر اى اكس شارك 2015 المعادى فضي',\n",
       " 'ميتسوبيشي باجيرو 2009 الفيوم أزرق',\n",
       " 'ميتسوبيشي لانسر 2016 6 أكتوبر فضي',\n",
       " 'ميتسوبيشي لانسر اى اكس شارك 2016 أسيوط رمادي',\n",
       " 'ميتسوبيشي لانسر 2012 الهرم احمر',\n",
       " 'ميتسوبيشي لانسر بومة 2011 المنيا\\u200e احمر غامق',\n",
       " 'ميتسوبيشي لانسر اى اكس شارك 2008 الفيوم أزرق',\n",
       " 'ميتسوبيشي لانسر بومة 2007 القاهرة فضي',\n",
       " 'ميتسوبيشي لانسر كرستالة 1999 طنطا فضي',\n",
       " 'ميتسوبيشي لانسر بومة 2008 المعادى أزرق',\n",
       " 'ميتسوبيشي لانسر بومة 2008 6 أكتوبر احمر',\n",
       " 'ميتسوبيشي لانسر بومة 2013 طنطا فضي',\n",
       " 'ميتسوبيشي لانسر بومة 2009 القاهرة فضي',\n",
       " 'ميتسوبيشي لانسر بومة 2010 الإسماعيلية احمر',\n",
       " 'ميتسوبيشي لانسر اى اكس شارك 2016 زفتى رمادي',\n",
       " 'ميتسوبيشي لانسر 2017 كفر الشيخ فضي',\n",
       " 'ميتسوبيشي اتراج 2015 المنصورة فضي']"
      ]
     },
     "execution_count": 25,
     "metadata": {},
     "output_type": "execute_result"
    }
   ],
   "source": [
    "names"
   ]
  },
  {
   "cell_type": "code",
   "execution_count": 33,
   "metadata": {},
   "outputs": [],
   "source": [
    "all_prices=[]\n",
    "price=soup.find_all(\"div\",attrs={\"class\":\"main_price\"})\n",
    "for i in price:\n",
    "    price0=i.get_text().replace(\"\\n\",\"\")\n",
    "    all_prices.append(price0)"
   ]
  },
  {
   "cell_type": "code",
   "execution_count": 34,
   "metadata": {},
   "outputs": [
    {
     "data": {
      "text/plain": [
       "['325,000 جنيه ',\n",
       " '320,000 جنيه ',\n",
       " '379,000 جنيه ',\n",
       " '230,000 جنيه ',\n",
       " '105,000 جنيه ',\n",
       " '325,000 جنيه ',\n",
       " '285,000 جنيه ',\n",
       " '125,000 جنيه ',\n",
       " '1,800,000 جنيه ',\n",
       " '650,000 جنيه ',\n",
       " '128,000 جنيه ',\n",
       " '350,000 جنيه ',\n",
       " '155,000 جنيه ',\n",
       " '260,000 جنيه ',\n",
       " '145,000 جنيه ',\n",
       " '340,000 جنيه ',\n",
       " '350,000 جنيه ',\n",
       " '245,000 جنيه ',\n",
       " '250,000 جنيه ',\n",
       " '300,000 جنيه ',\n",
       " '145,000 جنيه ',\n",
       " '100,000 جنيه ',\n",
       " '180,000 جنيه ',\n",
       " '170,000 جنيه ',\n",
       " '305,000 جنيه ',\n",
       " '235,000 جنيه ',\n",
       " '215,000 جنيه ',\n",
       " '370,000 جنيه ',\n",
       " '370,000 جنيه ',\n",
       " '160,000 جنيه ']"
      ]
     },
     "execution_count": 34,
     "metadata": {},
     "output_type": "execute_result"
    }
   ],
   "source": [
    "all_prices"
   ]
  },
  {
   "cell_type": "code",
   "execution_count": 58,
   "metadata": {},
   "outputs": [
    {
     "name": "stdout",
     "output_type": "stream",
     "text": [
      "https://eg.hatla2ee.com/ar/car/mitsubishi/page/2\n",
      "https://eg.hatla2ee.com/ar/car/mitsubishi/page/3\n",
      "https://eg.hatla2ee.com/ar/car/mitsubishi/page/4\n",
      "https://eg.hatla2ee.com/ar/car/mitsubishi/page/5\n",
      "https://eg.hatla2ee.com/ar/car/mitsubishi/page/6\n",
      "https://eg.hatla2ee.com/ar/car/mitsubishi/page/7\n",
      "https://eg.hatla2ee.com/ar/car/mitsubishi/page/8\n",
      "https://eg.hatla2ee.com/ar/car/mitsubishi/page/9\n",
      "https://eg.hatla2ee.com/ar/car/mitsubishi/page/10\n",
      "https://eg.hatla2ee.com/ar/car/mitsubishi/page/11\n",
      "https://eg.hatla2ee.com/ar/car/mitsubishi/page/12\n",
      "https://eg.hatla2ee.com/ar/car/mitsubishi/page/13\n",
      "https://eg.hatla2ee.com/ar/car/mitsubishi/page/14\n",
      "https://eg.hatla2ee.com/ar/car/mitsubishi/page/15\n",
      "https://eg.hatla2ee.com/ar/car/mitsubishi/page/16\n",
      "https://eg.hatla2ee.com/ar/car/mitsubishi/page/17\n",
      "https://eg.hatla2ee.com/ar/car/mitsubishi/page/18\n",
      "https://eg.hatla2ee.com/ar/car/mitsubishi/page/19\n",
      "https://eg.hatla2ee.com/ar/car/mitsubishi/page/20\n",
      "https://eg.hatla2ee.com/ar/car/mitsubishi/page/21\n",
      "https://eg.hatla2ee.com/ar/car/mitsubishi/page/22\n",
      "https://eg.hatla2ee.com/ar/car/mitsubishi/page/23\n",
      "https://eg.hatla2ee.com/ar/car/mitsubishi/page/24\n",
      "https://eg.hatla2ee.com/ar/car/mitsubishi/page/25\n",
      "https://eg.hatla2ee.com/ar/car/mitsubishi/page/26\n",
      "https://eg.hatla2ee.com/ar/car/mitsubishi/page/27\n",
      "https://eg.hatla2ee.com/ar/car/mitsubishi/page/28\n",
      "https://eg.hatla2ee.com/ar/car/mitsubishi/page/29\n",
      "https://eg.hatla2ee.com/ar/car/mitsubishi/page/30\n",
      "https://eg.hatla2ee.com/ar/car/mitsubishi/page/31\n",
      "https://eg.hatla2ee.com/ar/car/mitsubishi/page/32\n",
      "https://eg.hatla2ee.com/ar/car/mitsubishi/page/33\n",
      "https://eg.hatla2ee.com/ar/car/mitsubishi/page/34\n"
     ]
    }
   ],
   "source": [
    "last=soup.find(\"div\",attrs={\"class\",\"pagination pagination-right\"})\n",
    "pp=last.find_all(\"li\")\n",
    "lastpage=int(pp[-2].text)\n",
    "pages=[]\n",
    "for i in range(2,lastpage+1):\n",
    "    print(f\"https://eg.hatla2ee.com/ar/car/mitsubishi/page/{i}\")"
   ]
  },
  {
   "cell_type": "code",
   "execution_count": null,
   "metadata": {},
   "outputs": [],
   "source": []
  },
  {
   "cell_type": "code",
   "execution_count": 76,
   "metadata": {},
   "outputs": [],
   "source": [
    "last=soup.find(\"div\",attrs={\"class\",\"pagination pagination-right\"}).find_all(\"li\")\n",
    "\n",
    "lastpage=int(pp[-2].text)\n",
    "pages=[]\n",
    "for i in range(2,lastpage+1):\n",
    "    page=f\"https://eg.hatla2ee.com/ar/car/mitsubishi/page/{i}\"\n",
    "    pages.append(page)"
   ]
  },
  {
   "cell_type": "code",
   "execution_count": 57,
   "metadata": {},
   "outputs": [
    {
     "data": {
      "text/plain": [
       "['https://eg.hatla2ee.com/ar/car/mitsubishi/page/2',\n",
       " 'https://eg.hatla2ee.com/ar/car/mitsubishi/page/3',\n",
       " 'https://eg.hatla2ee.com/ar/car/mitsubishi/page/4',\n",
       " 'https://eg.hatla2ee.com/ar/car/mitsubishi/page/5',\n",
       " 'https://eg.hatla2ee.com/ar/car/mitsubishi/page/6',\n",
       " 'https://eg.hatla2ee.com/ar/car/mitsubishi/page/7',\n",
       " 'https://eg.hatla2ee.com/ar/car/mitsubishi/page/8',\n",
       " 'https://eg.hatla2ee.com/ar/car/mitsubishi/page/9',\n",
       " 'https://eg.hatla2ee.com/ar/car/mitsubishi/page/10',\n",
       " 'https://eg.hatla2ee.com/ar/car/mitsubishi/page/11',\n",
       " 'https://eg.hatla2ee.com/ar/car/mitsubishi/page/12',\n",
       " 'https://eg.hatla2ee.com/ar/car/mitsubishi/page/13',\n",
       " 'https://eg.hatla2ee.com/ar/car/mitsubishi/page/14',\n",
       " 'https://eg.hatla2ee.com/ar/car/mitsubishi/page/15',\n",
       " 'https://eg.hatla2ee.com/ar/car/mitsubishi/page/16',\n",
       " 'https://eg.hatla2ee.com/ar/car/mitsubishi/page/17',\n",
       " 'https://eg.hatla2ee.com/ar/car/mitsubishi/page/18',\n",
       " 'https://eg.hatla2ee.com/ar/car/mitsubishi/page/19',\n",
       " 'https://eg.hatla2ee.com/ar/car/mitsubishi/page/20',\n",
       " 'https://eg.hatla2ee.com/ar/car/mitsubishi/page/21',\n",
       " 'https://eg.hatla2ee.com/ar/car/mitsubishi/page/22',\n",
       " 'https://eg.hatla2ee.com/ar/car/mitsubishi/page/23',\n",
       " 'https://eg.hatla2ee.com/ar/car/mitsubishi/page/24',\n",
       " 'https://eg.hatla2ee.com/ar/car/mitsubishi/page/25',\n",
       " 'https://eg.hatla2ee.com/ar/car/mitsubishi/page/26',\n",
       " 'https://eg.hatla2ee.com/ar/car/mitsubishi/page/27',\n",
       " 'https://eg.hatla2ee.com/ar/car/mitsubishi/page/28',\n",
       " 'https://eg.hatla2ee.com/ar/car/mitsubishi/page/29',\n",
       " 'https://eg.hatla2ee.com/ar/car/mitsubishi/page/30',\n",
       " 'https://eg.hatla2ee.com/ar/car/mitsubishi/page/31',\n",
       " 'https://eg.hatla2ee.com/ar/car/mitsubishi/page/32',\n",
       " 'https://eg.hatla2ee.com/ar/car/mitsubishi/page/33',\n",
       " 'https://eg.hatla2ee.com/ar/car/mitsubishi/page/34']"
      ]
     },
     "execution_count": 57,
     "metadata": {},
     "output_type": "execute_result"
    }
   ],
   "source": [
    "pages"
   ]
  },
  {
   "cell_type": "code",
   "execution_count": 66,
   "metadata": {},
   "outputs": [
    {
     "name": "stdout",
     "output_type": "stream",
     "text": [
      "https://eg.hatla2ee.com/ar/car/mitsubishi/page/2\n",
      "https://eg.hatla2ee.com/ar/car/mitsubishi/page/3\n",
      "https://eg.hatla2ee.com/ar/car/mitsubishi/page/4\n",
      "https://eg.hatla2ee.com/ar/car/mitsubishi/page/5\n",
      "https://eg.hatla2ee.com/ar/car/mitsubishi/page/6\n",
      "https://eg.hatla2ee.com/ar/car/mitsubishi/page/7\n",
      "https://eg.hatla2ee.com/ar/car/mitsubishi/page/8\n",
      "https://eg.hatla2ee.com/ar/car/mitsubishi/page/9\n",
      "https://eg.hatla2ee.com/ar/car/mitsubishi/page/10\n",
      "https://eg.hatla2ee.com/ar/car/mitsubishi/page/11\n",
      "https://eg.hatla2ee.com/ar/car/mitsubishi/page/12\n",
      "https://eg.hatla2ee.com/ar/car/mitsubishi/page/13\n",
      "https://eg.hatla2ee.com/ar/car/mitsubishi/page/14\n",
      "https://eg.hatla2ee.com/ar/car/mitsubishi/page/15\n",
      "https://eg.hatla2ee.com/ar/car/mitsubishi/page/16\n",
      "https://eg.hatla2ee.com/ar/car/mitsubishi/page/17\n",
      "https://eg.hatla2ee.com/ar/car/mitsubishi/page/18\n",
      "https://eg.hatla2ee.com/ar/car/mitsubishi/page/19\n",
      "https://eg.hatla2ee.com/ar/car/mitsubishi/page/20\n",
      "https://eg.hatla2ee.com/ar/car/mitsubishi/page/21\n",
      "https://eg.hatla2ee.com/ar/car/mitsubishi/page/22\n",
      "https://eg.hatla2ee.com/ar/car/mitsubishi/page/23\n",
      "https://eg.hatla2ee.com/ar/car/mitsubishi/page/24\n",
      "https://eg.hatla2ee.com/ar/car/mitsubishi/page/25\n",
      "https://eg.hatla2ee.com/ar/car/mitsubishi/page/26\n",
      "https://eg.hatla2ee.com/ar/car/mitsubishi/page/27\n",
      "https://eg.hatla2ee.com/ar/car/mitsubishi/page/28\n",
      "https://eg.hatla2ee.com/ar/car/mitsubishi/page/29\n",
      "https://eg.hatla2ee.com/ar/car/mitsubishi/page/30\n",
      "https://eg.hatla2ee.com/ar/car/mitsubishi/page/31\n",
      "https://eg.hatla2ee.com/ar/car/mitsubishi/page/32\n",
      "https://eg.hatla2ee.com/ar/car/mitsubishi/page/33\n",
      "https://eg.hatla2ee.com/ar/car/mitsubishi/page/34\n"
     ]
    }
   ],
   "source": [
    "import requests\n",
    "from bs4 import BeautifulSoup\n",
    "last=soup.find(\"div\",attrs={\"class\",\"pagination pagination-right\"})\n",
    "pp=last.find_all(\"li\")\n",
    "lastpage=int(pp[-2].text)\n",
    "pages=[]\n",
    "for i in range(2,lastpage+1):\n",
    "    url=f\"https://eg.hatla2ee.com/ar/car/mitsubishi/page/{i}\"\n",
    "    pages.append(url)\n",
    "    response=requests.get(url)\n",
    "    soup = BeautifulSoup(response.text, 'html.parser')\n",
    "    print(url)\n",
    "    \n",
    "    names\n",
    "        \n",
    "    \n"
   ]
  },
  {
   "cell_type": "code",
   "execution_count": 67,
   "metadata": {},
   "outputs": [
    {
     "data": {
      "text/plain": [
       "['ميتسوبيشي لانسر بومة 2008 المنصورة احمر',\n",
       " 'ميتسوبيشي لانسر بومة 2005 الفيوم فضي',\n",
       " 'ميتسوبيشي باجيرو 2016 القاهرة أسود',\n",
       " 'ميتسوبيشي لانسر بومة 2007 كفر الشيخ شمبان',\n",
       " 'ميتسوبيشي ميراج 2001 بورسعيد فضي',\n",
       " 'ميتسوبيشي لانسر كرستالة 1992 طنطا أزرق ',\n",
       " 'ميتسوبيشي ميراج 2014 شيراتون فضي']"
      ]
     },
     "execution_count": 67,
     "metadata": {},
     "output_type": "execute_result"
    }
   ],
   "source": [
    "names"
   ]
  },
  {
   "cell_type": "code",
   "execution_count": 111,
   "metadata": {},
   "outputs": [],
   "source": [
    "all_cars=soup.find_all(\"div\",attrs={\"class\":\"CarListWrapper\"})\n",
    "name=soup.find(\"div\",attrs={\"class\":\"newCarListUnit_header\"})\n",
    "price0=soup.find(\"div\",attrs={\"class\":\"main_price\"})"
   ]
  },
  {
   "cell_type": "code",
   "execution_count": 156,
   "metadata": {},
   "outputs": [],
   "source": [
    "with open('hatlaqe.csv' , 'w' , newline = \"\" , encoding='UTF8') as f:\n",
    "    writer  = csv.writer(f)\n",
    "    writer.writerow(['car Name' , 'car Price'])\n",
    "    for i in range(2,35):\n",
    "        url=f\"https://eg.hatla2ee.com/ar/car/mitsubishi/page/{i}\"\n",
    "        response=requests.get(url)   \n",
    "        soup = BeautifulSoup(response.text, 'html.parser')\n",
    "        for i in all_cars:\n",
    "            name=soup.find(\"div\",attrs={\"class\":\"newCarListUnit_header\"})\n",
    "            car=name.find(\"a\").get(\"title\")\n",
    "            price0=soup.find(\"div\",attrs={\"class\":\"main_price\"})\n",
    "            price=price0.get_text().replace(\"\\n\",\"\")\n",
    "            writer.writerow([car,price])"
   ]
  },
  {
   "cell_type": "code",
   "execution_count": 157,
   "metadata": {},
   "outputs": [],
   "source": [
    "import pandas as pd"
   ]
  },
  {
   "cell_type": "code",
   "execution_count": 158,
   "metadata": {},
   "outputs": [
    {
     "data": {
      "text/html": [
       "<div>\n",
       "<style scoped>\n",
       "    .dataframe tbody tr th:only-of-type {\n",
       "        vertical-align: middle;\n",
       "    }\n",
       "\n",
       "    .dataframe tbody tr th {\n",
       "        vertical-align: top;\n",
       "    }\n",
       "\n",
       "    .dataframe thead th {\n",
       "        text-align: right;\n",
       "    }\n",
       "</style>\n",
       "<table border=\"1\" class=\"dataframe\">\n",
       "  <thead>\n",
       "    <tr style=\"text-align: right;\">\n",
       "      <th></th>\n",
       "      <th>car Name</th>\n",
       "      <th>car Price</th>\n",
       "    </tr>\n",
       "  </thead>\n",
       "  <tbody>\n",
       "    <tr>\n",
       "      <th>0</th>\n",
       "      <td>ميتسوبيشي لانسر بومة 2010 الإسماعيلية احمر</td>\n",
       "      <td>215,000 جنيه</td>\n",
       "    </tr>\n",
       "    <tr>\n",
       "      <th>1</th>\n",
       "      <td>ميتسوبيشي اكليبس 2018 بني سويف‎ احمر</td>\n",
       "      <td>700,000 جنيه</td>\n",
       "    </tr>\n",
       "    <tr>\n",
       "      <th>2</th>\n",
       "      <td>ميتسوبيشي لانسر اى اكس شارك 2016 العبور فضي</td>\n",
       "      <td>340,000 جنيه</td>\n",
       "    </tr>\n",
       "    <tr>\n",
       "      <th>3</th>\n",
       "      <td>ميتسوبيشي مونتيرو 2016 القاهرة أسود</td>\n",
       "      <td>1,100,000 جنيه</td>\n",
       "    </tr>\n",
       "    <tr>\n",
       "      <th>4</th>\n",
       "      <td>ميتسوبيشي لانسر اى اكس شارك 2014 القاهرة شمبان</td>\n",
       "      <td>310,000 جنيه</td>\n",
       "    </tr>\n",
       "    <tr>\n",
       "      <th>5</th>\n",
       "      <td>ميتسوبيشي اكليبس كروس 2018 الباجور فضي</td>\n",
       "      <td>450,000 جنيه</td>\n",
       "    </tr>\n",
       "    <tr>\n",
       "      <th>6</th>\n",
       "      <td>ميتسوبيشي لانسر بومة 2008 فاقوس احمر غامق</td>\n",
       "      <td>210,000 جنيه</td>\n",
       "    </tr>\n",
       "    <tr>\n",
       "      <th>7</th>\n",
       "      <td>ميتسوبيشي اتراج 2014 الفيوم احمر</td>\n",
       "      <td>155,000 جنيه</td>\n",
       "    </tr>\n",
       "    <tr>\n",
       "      <th>8</th>\n",
       "      <td>ميتسوبيشي باجيرو 2001 القاهرة أسود</td>\n",
       "      <td>290,000 جنيه</td>\n",
       "    </tr>\n",
       "    <tr>\n",
       "      <th>9</th>\n",
       "      <td>ميتسوبيشي لانسر اى اكس شارك 2015 القاهرة فضي</td>\n",
       "      <td>320,000 جنيه</td>\n",
       "    </tr>\n",
       "    <tr>\n",
       "      <th>10</th>\n",
       "      <td>ميتسوبيشي لانسر اى اكس شارك 2016 الفيوم برونزي</td>\n",
       "      <td>330,000 جنيه</td>\n",
       "    </tr>\n",
       "    <tr>\n",
       "      <th>11</th>\n",
       "      <td>ميتسوبيشي لانسر اى اكس شارك 2014 إمبابة فضي</td>\n",
       "      <td>260,000 جنيه</td>\n",
       "    </tr>\n",
       "    <tr>\n",
       "      <th>12</th>\n",
       "      <td>ميتسوبيشي لانسر بومة 2011 المنصورة أبيض</td>\n",
       "      <td>225,000 جنيه</td>\n",
       "    </tr>\n",
       "    <tr>\n",
       "      <th>13</th>\n",
       "      <td>ميتسوبيشي لانسر بومة 2005 كفر الزيات فضي</td>\n",
       "      <td>175,000 جنيه</td>\n",
       "    </tr>\n",
       "    <tr>\n",
       "      <th>14</th>\n",
       "      <td>ميتسوبيشي لانسر كرستالة 1994 الدقهلية احمر</td>\n",
       "      <td>38,000 جنيه</td>\n",
       "    </tr>\n",
       "    <tr>\n",
       "      <th>15</th>\n",
       "      <td>ميتسوبيشي جالانت 1992 العبور احمر غامق</td>\n",
       "      <td>50,000 جنيه</td>\n",
       "    </tr>\n",
       "    <tr>\n",
       "      <th>16</th>\n",
       "      <td>ميتسوبيشي لانسر اى اكس شارك 2015 السويس‎ رمادي</td>\n",
       "      <td>310,000 جنيه</td>\n",
       "    </tr>\n",
       "    <tr>\n",
       "      <th>17</th>\n",
       "      <td>ميتسوبيشي لانسر اى اكس شارك 2015 الزمالك أسود</td>\n",
       "      <td>366,000 جنيه</td>\n",
       "    </tr>\n",
       "    <tr>\n",
       "      <th>18</th>\n",
       "      <td>ميتسوبيشي اكليبس 2021 مدينة نصر فضي</td>\n",
       "      <td>560,000 جنيه</td>\n",
       "    </tr>\n",
       "    <tr>\n",
       "      <th>19</th>\n",
       "      <td>ميتسوبيشي اكسباندر 2022 أسوان رمادي</td>\n",
       "      <td>550,000 جنيه</td>\n",
       "    </tr>\n",
       "    <tr>\n",
       "      <th>20</th>\n",
       "      <td>ميتسوبيشي جالانت 1979 الشرقية فضي</td>\n",
       "      <td>25,000 جنيه</td>\n",
       "    </tr>\n",
       "    <tr>\n",
       "      <th>21</th>\n",
       "      <td>ميتسوبيشي لانسر كرستالة 1998 بني سويف‎ أزرق</td>\n",
       "      <td>88,000 جنيه</td>\n",
       "    </tr>\n",
       "    <tr>\n",
       "      <th>22</th>\n",
       "      <td>ميتسوبيشي اكليبس كروس 2018 طنطا موكا</td>\n",
       "      <td>500,000 جنيه</td>\n",
       "    </tr>\n",
       "    <tr>\n",
       "      <th>23</th>\n",
       "      <td>ميتسوبيشي لانسر اى اكس شارك 2018 دمياط فضي</td>\n",
       "      <td>390,000 جنيه</td>\n",
       "    </tr>\n",
       "    <tr>\n",
       "      <th>24</th>\n",
       "      <td>ميتسوبيشي لانسر بومة 2005 القاهرة بترولي</td>\n",
       "      <td>170,000 جنيه</td>\n",
       "    </tr>\n",
       "    <tr>\n",
       "      <th>25</th>\n",
       "      <td>ميتسوبيشي لانسر بومة 2004 القاهرة سماوى</td>\n",
       "      <td>225,000 جنيه</td>\n",
       "    </tr>\n",
       "    <tr>\n",
       "      <th>26</th>\n",
       "      <td>ميتسوبيشي لانسر اى اكس شارك 2017 كفر الشيخ ذهبي</td>\n",
       "      <td>343,000 جنيه</td>\n",
       "    </tr>\n",
       "    <tr>\n",
       "      <th>27</th>\n",
       "      <td>ميتسوبيشي بيك اب 2001 المنيا‎ أبيض</td>\n",
       "      <td>55,000 جنيه</td>\n",
       "    </tr>\n",
       "    <tr>\n",
       "      <th>28</th>\n",
       "      <td>ميتسوبيشي لانسر اى اكس شارك 2016 دمياط فضي</td>\n",
       "      <td>310,000 جنيه</td>\n",
       "    </tr>\n",
       "    <tr>\n",
       "      <th>29</th>\n",
       "      <td>ميتسوبيشي لانسر بومة 2007 الجيزة الأزرق الداكن</td>\n",
       "      <td>130,000 جنيه</td>\n",
       "    </tr>\n",
       "    <tr>\n",
       "      <th>30</th>\n",
       "      <td>ميتسوبيشي لانسر بومة 2005 كفر الشيخ أبيض</td>\n",
       "      <td>140,000 جنيه</td>\n",
       "    </tr>\n",
       "    <tr>\n",
       "      <th>31</th>\n",
       "      <td>ميتسوبيشي لانسر كرستالة 1998 عين شمس أسود</td>\n",
       "      <td>83,000 جنيه</td>\n",
       "    </tr>\n",
       "    <tr>\n",
       "      <th>32</th>\n",
       "      <td>ميتسوبيشي لانسر كرستالة 1993 دمياط فضي</td>\n",
       "      <td>73,000 جنيه</td>\n",
       "    </tr>\n",
       "  </tbody>\n",
       "</table>\n",
       "</div>"
      ],
      "text/plain": [
       "                                           car Name        car Price\n",
       "0        ميتسوبيشي لانسر بومة 2010 الإسماعيلية احمر    215,000 جنيه \n",
       "1              ميتسوبيشي اكليبس 2018 بني سويف‎ احمر    700,000 جنيه \n",
       "2       ميتسوبيشي لانسر اى اكس شارك 2016 العبور فضي    340,000 جنيه \n",
       "3               ميتسوبيشي مونتيرو 2016 القاهرة أسود  1,100,000 جنيه \n",
       "4    ميتسوبيشي لانسر اى اكس شارك 2014 القاهرة شمبان    310,000 جنيه \n",
       "5            ميتسوبيشي اكليبس كروس 2018 الباجور فضي    450,000 جنيه \n",
       "6         ميتسوبيشي لانسر بومة 2008 فاقوس احمر غامق    210,000 جنيه \n",
       "7                  ميتسوبيشي اتراج 2014 الفيوم احمر    155,000 جنيه \n",
       "8                ميتسوبيشي باجيرو 2001 القاهرة أسود    290,000 جنيه \n",
       "9      ميتسوبيشي لانسر اى اكس شارك 2015 القاهرة فضي    320,000 جنيه \n",
       "10   ميتسوبيشي لانسر اى اكس شارك 2016 الفيوم برونزي    330,000 جنيه \n",
       "11      ميتسوبيشي لانسر اى اكس شارك 2014 إمبابة فضي    260,000 جنيه \n",
       "12          ميتسوبيشي لانسر بومة 2011 المنصورة أبيض    225,000 جنيه \n",
       "13         ميتسوبيشي لانسر بومة 2005 كفر الزيات فضي    175,000 جنيه \n",
       "14       ميتسوبيشي لانسر كرستالة 1994 الدقهلية احمر     38,000 جنيه \n",
       "15           ميتسوبيشي جالانت 1992 العبور احمر غامق     50,000 جنيه \n",
       "16   ميتسوبيشي لانسر اى اكس شارك 2015 السويس‎ رمادي    310,000 جنيه \n",
       "17    ميتسوبيشي لانسر اى اكس شارك 2015 الزمالك أسود    366,000 جنيه \n",
       "18              ميتسوبيشي اكليبس 2021 مدينة نصر فضي    560,000 جنيه \n",
       "19              ميتسوبيشي اكسباندر 2022 أسوان رمادي    550,000 جنيه \n",
       "20                ميتسوبيشي جالانت 1979 الشرقية فضي     25,000 جنيه \n",
       "21     ميتسوبيشي لانسر كرستالة 1998 بني سويف‎ أزرق      88,000 جنيه \n",
       "22             ميتسوبيشي اكليبس كروس 2018 طنطا موكا    500,000 جنيه \n",
       "23       ميتسوبيشي لانسر اى اكس شارك 2018 دمياط فضي    390,000 جنيه \n",
       "24         ميتسوبيشي لانسر بومة 2005 القاهرة بترولي    170,000 جنيه \n",
       "25          ميتسوبيشي لانسر بومة 2004 القاهرة سماوى    225,000 جنيه \n",
       "26  ميتسوبيشي لانسر اى اكس شارك 2017 كفر الشيخ ذهبي    343,000 جنيه \n",
       "27              ميتسوبيشي بيك اب 2001 المنيا‎ أبيض      55,000 جنيه \n",
       "28       ميتسوبيشي لانسر اى اكس شارك 2016 دمياط فضي    310,000 جنيه \n",
       "29   ميتسوبيشي لانسر بومة 2007 الجيزة الأزرق الداكن    130,000 جنيه \n",
       "30        ميتسوبيشي لانسر بومة 2005 كفر الشيخ أبيض     140,000 جنيه \n",
       "31        ميتسوبيشي لانسر كرستالة 1998 عين شمس أسود     83,000 جنيه \n",
       "32           ميتسوبيشي لانسر كرستالة 1993 دمياط فضي     73,000 جنيه "
      ]
     },
     "execution_count": 158,
     "metadata": {},
     "output_type": "execute_result"
    }
   ],
   "source": [
    "df = pd.read_csv(\"hatlaqe.csv\")\n",
    "df"
   ]
  },
  {
   "cell_type": "code",
   "execution_count": null,
   "metadata": {},
   "outputs": [],
   "source": []
  },
  {
   "cell_type": "code",
   "execution_count": null,
   "metadata": {},
   "outputs": [],
   "source": []
  }
 ],
 "metadata": {
  "kernelspec": {
   "display_name": "Python 3",
   "language": "python",
   "name": "python3"
  },
  "language_info": {
   "codemirror_mode": {
    "name": "ipython",
    "version": 3
   },
   "file_extension": ".py",
   "mimetype": "text/x-python",
   "name": "python",
   "nbconvert_exporter": "python",
   "pygments_lexer": "ipython3",
   "version": "3.7.6"
  }
 },
 "nbformat": 4,
 "nbformat_minor": 4
}
